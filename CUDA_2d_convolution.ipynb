{
  "nbformat": 4,
  "nbformat_minor": 0,
  "metadata": {
    "colab": {
      "provenance": [],
      "toc_visible": true,
      "mount_file_id": "10gQ4-xIstRlftdAKvrCNJDnBFD0iFhSL",
      "authorship_tag": "ABX9TyP95eTEFfjGbfGc0Z6DW0GQ",
      "include_colab_link": true
    },
    "kernelspec": {
      "name": "python3",
      "display_name": "Python 3"
    },
    "language_info": {
      "name": "python"
    },
    "accelerator": "GPU"
  },
  "cells": [
    {
      "cell_type": "markdown",
      "metadata": {
        "id": "view-in-github",
        "colab_type": "text"
      },
      "source": [
        "<a href=\"https://colab.research.google.com/github/giuseppeegentile/2d-convolution-cuda/blob/main/CUDA_2d_convolution.ipynb\" target=\"_parent\"><img src=\"https://colab.research.google.com/assets/colab-badge.svg\" alt=\"Open In Colab\"/></a>"
      ]
    },
    {
      "cell_type": "code",
      "execution_count": 3,
      "metadata": {
        "colab": {
          "base_uri": "https://localhost:8080/"
        },
        "id": "iw06T-RezJU0",
        "outputId": "e3fa319b-8851-4db0-93a9-bcf23beb67b5"
      },
      "outputs": [
        {
          "output_type": "stream",
          "name": "stdout",
          "text": [
            "Sat Oct 22 08:28:43 2022       \n",
            "+-----------------------------------------------------------------------------+\n",
            "| NVIDIA-SMI 460.32.03    Driver Version: 460.32.03    CUDA Version: 11.2     |\n",
            "|-------------------------------+----------------------+----------------------+\n",
            "| GPU  Name        Persistence-M| Bus-Id        Disp.A | Volatile Uncorr. ECC |\n",
            "| Fan  Temp  Perf  Pwr:Usage/Cap|         Memory-Usage | GPU-Util  Compute M. |\n",
            "|                               |                      |               MIG M. |\n",
            "|===============================+======================+======================|\n",
            "|   0  Tesla T4            Off  | 00000000:00:04.0 Off |                    0 |\n",
            "| N/A   34C    P8     9W /  70W |      0MiB / 15109MiB |      0%      Default |\n",
            "|                               |                      |                  N/A |\n",
            "+-------------------------------+----------------------+----------------------+\n",
            "                                                                               \n",
            "+-----------------------------------------------------------------------------+\n",
            "| Processes:                                                                  |\n",
            "|  GPU   GI   CI        PID   Type   Process name                  GPU Memory |\n",
            "|        ID   ID                                                   Usage      |\n",
            "|=============================================================================|\n",
            "|  No running processes found                                                 |\n",
            "+-----------------------------------------------------------------------------+\n"
          ]
        }
      ],
      "source": [
        "!nvidia-smi"
      ]
    },
    {
      "cell_type": "code",
      "source": [
        "!nvcc --version"
      ],
      "metadata": {
        "colab": {
          "base_uri": "https://localhost:8080/"
        },
        "id": "92x3xZndzOO0",
        "outputId": "647f947c-4437-46ed-c420-9c54899105a1"
      },
      "execution_count": 4,
      "outputs": [
        {
          "output_type": "stream",
          "name": "stdout",
          "text": [
            "nvcc: NVIDIA (R) Cuda compiler driver\n",
            "Copyright (c) 2005-2021 NVIDIA Corporation\n",
            "Built on Sun_Feb_14_21:12:58_PST_2021\n",
            "Cuda compilation tools, release 11.2, V11.2.152\n",
            "Build cuda_11.2.r11.2/compiler.29618528_0\n"
          ]
        }
      ]
    },
    {
      "cell_type": "code",
      "source": [
        "!pip install git+https://github.com/andreinechaev/nvcc4jupyter.git"
      ],
      "metadata": {
        "colab": {
          "base_uri": "https://localhost:8080/"
        },
        "id": "d1koZGk1zziA",
        "outputId": "f554f744-075a-4de1-d406-0fad62f94ba1"
      },
      "execution_count": 5,
      "outputs": [
        {
          "output_type": "stream",
          "name": "stdout",
          "text": [
            "Looking in indexes: https://pypi.org/simple, https://us-python.pkg.dev/colab-wheels/public/simple/\n",
            "Collecting git+https://github.com/andreinechaev/nvcc4jupyter.git\n",
            "  Cloning https://github.com/andreinechaev/nvcc4jupyter.git to /tmp/pip-req-build-t_lump8n\n",
            "  Running command git clone -q https://github.com/andreinechaev/nvcc4jupyter.git /tmp/pip-req-build-t_lump8n\n",
            "Building wheels for collected packages: NVCCPlugin\n",
            "  Building wheel for NVCCPlugin (setup.py) ... \u001b[?25l\u001b[?25hdone\n",
            "  Created wheel for NVCCPlugin: filename=NVCCPlugin-0.0.2-py3-none-any.whl size=4306 sha256=4751ad02cf296d0be50e4a70e1e6f2bafe586c56cee2674d7797add4281b2d10\n",
            "  Stored in directory: /tmp/pip-ephem-wheel-cache-ofeb5n49/wheels/ca/33/8d/3c86eb85e97d2b6169d95c6e8f2c297fdec60db6e84cb56f5e\n",
            "Successfully built NVCCPlugin\n",
            "Installing collected packages: NVCCPlugin\n",
            "Successfully installed NVCCPlugin-0.0.2\n"
          ]
        }
      ]
    },
    {
      "cell_type": "code",
      "source": [
        "%load_ext nvcc_plugin"
      ],
      "metadata": {
        "colab": {
          "base_uri": "https://localhost:8080/"
        },
        "id": "ihw_Nmd-z1l0",
        "outputId": "2b3fcd3d-eaa6-4d1c-8e6b-c69700501335"
      },
      "execution_count": 7,
      "outputs": [
        {
          "output_type": "stream",
          "name": "stdout",
          "text": [
            "The nvcc_plugin extension is already loaded. To reload it, use:\n",
            "  %reload_ext nvcc_plugin\n"
          ]
        }
      ]
    },
    {
      "cell_type": "code",
      "source": [
        "%%cu\n",
        "#include <stdio.h>\n",
        "#include<stdlib.h>\n",
        "#include<time.h>\n",
        "\n",
        "#define TILE_SIZE 32\n",
        "#define OUT_TILE_SIZE 32\n",
        "#define MAX_MASK_WIDTH 32\n",
        "#define MATRIX_SIZE 1024\n",
        "\n",
        "\n",
        "__global__ void convolution_2D_tiled(unsigned char * in, const unsigned char * __restrict__ mask, unsigned char * out, int mask_width , int w, int h, int pitch) {\n",
        "    int tx = threadIdx.x;\n",
        "    int ty = threadIdx.y;\n",
        "\n",
        "    int col = blockIdx.x * blockDim.x + tx;\n",
        "    int row = blockIdx.y * blockDim.y + ty;\n",
        "\n",
        "    __shared__ unsigned char tile[TILE_SIZE + MAX_MASK_WIDTH -1][TILE_SIZE + MAX_MASK_WIDTH -1];\n",
        "    \n",
        "    //do math if thread id is in the tile size\n",
        "    if (col < w && row < h){\n",
        "        //picking the starting indexes of input matrix inside the mask\n",
        "        //(TOP-LEFT of the mask)\n",
        "        int inputRow = row - (mask_width/2);\n",
        "        int inputCol = col - (mask_width/2);\n",
        "\n",
        "        // Load tile elements\n",
        "        if(inputRow >= 0 && inputRow < h && inputCol >= 0 && inputCol < w)\n",
        "            tile[ty][tx] = in[inputRow*pitch + inputCol]; //linearized memory access, I consider the pitch instead of the w, because there are padded elements\n",
        "        else\n",
        "            tile[ty][tx] = 0.0;\n",
        "\n",
        "        // Wait until all tile elements are loaded\n",
        "        __syncthreads();\n",
        "\n",
        "        //where to write the modified pixel\n",
        "        int outputPixel = 0;\n",
        "\n",
        "        //get the neighbour in the mask\n",
        "        for(int i = 0; i < mask_width; ++i){\n",
        "            int currRow = inputRow + i;\n",
        "            for(int j = 0; j < mask_width; ++j){ //(Mask_Width^2) access for each thread in block -> for each block (Mask_Width^2) * (Block_width^2)\n",
        "                int currCol = inputCol + j;\n",
        "\n",
        "                // Verify we have a valid image pixel\n",
        "                if(currRow > 1 && currRow < h && currCol > 1 && currCol < w) {\n",
        "                    outputPixel += tile[i + ty][j + tx] * mask[mask_width + j];\n",
        "                }\n",
        "            }\n",
        "        }\n",
        "        out[(row * w) + col] = (unsigned char)(outputPixel); //back using width instead of pitch\n",
        "    }\n",
        "}\n",
        "\n",
        "void launch_tests(int mask_size){\n",
        "    int block_size;\n",
        "    for(block_size= 4; block_size <= 32; block_size *= 2) {\n",
        "        unsigned char *a, *b, *c;\n",
        "        const int mask_width = 5;\n",
        "        cudaMallocManaged((void **) &a, sizeof(unsigned char)*MATRIX_SIZE*MATRIX_SIZE);\n",
        "        cudaMallocManaged((void **) &b, sizeof(unsigned char)*mask_width*mask_width);\n",
        "        cudaMallocManaged((void **) &c, sizeof(unsigned char)*MATRIX_SIZE*MATRIX_SIZE);\n",
        "\n",
        "        srand(time(0));\n",
        "        //initialize matrix A\n",
        "        for (int i = 0; i < MATRIX_SIZE; ++i) {\n",
        "            for (int j = 0; j < MATRIX_SIZE; ++j) {\n",
        "                a[i * MATRIX_SIZE + j] = 1 + (rand() % 10); //random values between 1-10\n",
        "            }\n",
        "        }\n",
        "\n",
        "        srand(time(0));\n",
        "        // initialize matrix B\n",
        "        for (int i = 0; i < mask_width; ++i) {\n",
        "            for (int j = 0; j < mask_width; ++j) {\n",
        "                b[i * mask_width + j] =  1 + (rand() % 5); //random values between 1-5\n",
        "            }\n",
        "        }\n",
        "\n",
        "        float  naive_gpu_elapsed_time_ms;\n",
        "\n",
        "        // some events to count the execution time\n",
        "        //clock_t st, end;\n",
        "        cudaEvent_t start, stop;\n",
        "        cudaEventCreate(&start);\n",
        "        cudaEventCreate(&stop);\n",
        "\n",
        "        \n",
        "        unsigned int grid_rows = (MATRIX_SIZE + block_size - 1) / block_size;\n",
        "        unsigned int grid_cols = (MATRIX_SIZE + block_size - 1) / block_size;\n",
        "        dim3 dimGrid(grid_cols, grid_rows);\n",
        "        dim3 dimBlock(block_size, block_size);\n",
        "        //convolution_2D_tiled( unsigned char * in, const unsigned char * __restrict__ mask, unsigned char * out, int mask_width , int w, int h, int pitch) {\n",
        "        \n",
        "        cudaEventRecord(start, 0);\n",
        "        convolution_2D_tiled<<<dimGrid, dimBlock>>>(a, b, c, mask_width, MATRIX_SIZE, MATRIX_SIZE, MATRIX_SIZE);\n",
        "        cudaThreadSynchronize();\n",
        "\n",
        "        //time counting terminate\n",
        "       \n",
        "        cudaEventRecord(stop, 0);\n",
        "        cudaEventSynchronize(stop);\n",
        "\n",
        "        //compute time elapsed on GPU computing\n",
        "        cudaEventElapsedTime(&naive_gpu_elapsed_time_ms, start, stop);\n",
        "        printf(\"Time elapsed on naive GPU convolution 2d tiled ( %d ) block %f ms.\\n\\n\", block_size, naive_gpu_elapsed_time_ms);\n",
        "        \n",
        "      \n",
        "        //free memory\n",
        "        cudaFree(a);\n",
        "        cudaFree(b);\n",
        "        cudaFree(c);\n",
        "    }\n",
        "}\n",
        "\n",
        "int main(int argc, char const *argv[])\n",
        "{\n",
        "    \n",
        "\n",
        "    int nDevices;\n",
        "    cudaGetDeviceCount(&nDevices);\n",
        "    for (int i = 0; i < nDevices; i++) {\n",
        "      cudaDeviceProp prop;\n",
        "      cudaGetDeviceProperties(&prop, i);\n",
        "      printf(\"Device Number: %d\\n\", i);\n",
        "      printf(\"  Device name: %s\\n\", prop.name);\n",
        "      printf(\"  max Blocks Per MultiProcessor: %d\\n\", prop.maxBlocksPerMultiProcessor);\n",
        "      printf(\"  max Threads Per MultiProcessor: %d\\n\", prop.maxThreadsPerMultiProcessor);\n",
        "      printf(\"  max Threads Per Block: %d\\n\", prop.maxThreadsPerBlock);\n",
        "      printf(\"  num SM: %d\\n\", prop.multiProcessorCount);\n",
        "      printf(\"  num bytes sharedMem Per Block: %d\\n\", prop.sharedMemPerBlock);\n",
        "      printf(\"  num bytes sharedMem Per Multiprocessor: %d\\n\", prop.sharedMemPerMultiprocessor);\n",
        "      printf(\"  Memory Clock Rate (KHz): %d\\n\",\n",
        "           prop.memoryClockRate);\n",
        "      printf(\"  Memory Bus Width (bits): %d\\n\",\n",
        "           prop.memoryBusWidth);\n",
        "      printf(\"  Peak Memory Bandwidth (GB/s): %f\\n\\n\",\n",
        "           2.0*prop.memoryClockRate*(prop.memoryBusWidth/8)/1.0e6);\n",
        "    }\n",
        " \n",
        "    for(int ms = 3; ms <= 9; ms+=2){\n",
        "        printf(\"Testing with mask size = %d\\n\\n\", ms);\n",
        "        launch_tests(ms);\n",
        "        printf(\"________________________________________________________________________\\n\\n\");\n",
        "    }\n",
        "\n",
        "    \n",
        " \n",
        "    return 0;\n",
        "}"
      ],
      "metadata": {
        "colab": {
          "base_uri": "https://localhost:8080/"
        },
        "id": "Q34SQ0Dqz8PN",
        "outputId": "a542f5e6-bfbf-4aa7-b378-de189d76f289"
      },
      "execution_count": 19,
      "outputs": [
        {
          "output_type": "stream",
          "name": "stdout",
          "text": [
            "Device Number: 0\n",
            "  Device name: Tesla T4\n",
            "  max Blocks Per MultiProcessor: 16\n",
            "  max Threads Per MultiProcessor: 1024\n",
            "  max Threads Per Block: 1024\n",
            "  num SM: 40\n",
            "  num bytes sharedMem Per Block: 49152\n",
            "  num bytes sharedMem Per Multiprocessor: 65536\n",
            "  Memory Clock Rate (KHz): 5001000\n",
            "  Memory Bus Width (bits): 256\n",
            "  Peak Memory Bandwidth (GB/s): 320.064000\n",
            "\n",
            "Testing with mask size = 3\n",
            "\n",
            "Time elapsed on naive GPU convolution 2d tiled ( 4 ) block 1.748960 ms.\n",
            "\n",
            "Time elapsed on naive GPU convolution 2d tiled ( 8 ) block 1.255424 ms.\n",
            "\n",
            "Time elapsed on naive GPU convolution 2d tiled ( 16 ) block 1.126400 ms.\n",
            "\n",
            "Time elapsed on naive GPU convolution 2d tiled ( 32 ) block 1.202240 ms.\n",
            "\n",
            "________________________________________________________________________\n",
            "\n",
            "Testing with mask size = 5\n",
            "\n",
            "Time elapsed on naive GPU convolution 2d tiled ( 4 ) block 1.413824 ms.\n",
            "\n",
            "Time elapsed on naive GPU convolution 2d tiled ( 8 ) block 1.178496 ms.\n",
            "\n",
            "Time elapsed on naive GPU convolution 2d tiled ( 16 ) block 1.298848 ms.\n",
            "\n",
            "Time elapsed on naive GPU convolution 2d tiled ( 32 ) block 1.252032 ms.\n",
            "\n",
            "________________________________________________________________________\n",
            "\n",
            "Testing with mask size = 7\n",
            "\n",
            "Time elapsed on naive GPU convolution 2d tiled ( 4 ) block 1.478496 ms.\n",
            "\n",
            "Time elapsed on naive GPU convolution 2d tiled ( 8 ) block 1.176224 ms.\n",
            "\n",
            "Time elapsed on naive GPU convolution 2d tiled ( 16 ) block 1.069312 ms.\n",
            "\n",
            "Time elapsed on naive GPU convolution 2d tiled ( 32 ) block 1.073472 ms.\n",
            "\n",
            "________________________________________________________________________\n",
            "\n",
            "Testing with mask size = 9\n",
            "\n",
            "Time elapsed on naive GPU convolution 2d tiled ( 4 ) block 1.406976 ms.\n",
            "\n",
            "Time elapsed on naive GPU convolution 2d tiled ( 8 ) block 1.166720 ms.\n",
            "\n",
            "Time elapsed on naive GPU convolution 2d tiled ( 16 ) block 1.134848 ms.\n",
            "\n",
            "Time elapsed on naive GPU convolution 2d tiled ( 32 ) block 1.168608 ms.\n",
            "\n",
            "________________________________________________________________________\n",
            "\n",
            "\n"
          ]
        }
      ]
    }
  ]
}