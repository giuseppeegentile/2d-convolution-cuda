{
  "nbformat": 4,
  "nbformat_minor": 0,
  "metadata": {
    "colab": {
      "provenance": [],
      "toc_visible": true,
      "mount_file_id": "10gQ4-xIstRlftdAKvrCNJDnBFD0iFhSL",
      "authorship_tag": "ABX9TyO5QgSBZjV3RFc8PbLzgyaL",
      "include_colab_link": true
    },
    "kernelspec": {
      "name": "python3",
      "display_name": "Python 3"
    },
    "language_info": {
      "name": "python"
    },
    "accelerator": "GPU",
    "gpuClass": "standard"
  },
  "cells": [
    {
      "cell_type": "markdown",
      "metadata": {
        "id": "view-in-github",
        "colab_type": "text"
      },
      "source": [
        "<a href=\"https://colab.research.google.com/github/giuseppeegentile/2d-convolution-cuda/blob/main/CUDA_2d_convolution.ipynb\" target=\"_parent\"><img src=\"https://colab.research.google.com/assets/colab-badge.svg\" alt=\"Open In Colab\"/></a>"
      ]
    },
    {
      "cell_type": "code",
      "execution_count": 3,
      "metadata": {
        "colab": {
          "base_uri": "https://localhost:8080/"
        },
        "id": "iw06T-RezJU0",
        "outputId": "cf6a59e4-3737-4aa6-f6b7-8863878cf37a"
      },
      "outputs": [
        {
          "output_type": "stream",
          "name": "stdout",
          "text": [
            "Fri Oct 28 08:21:25 2022       \n",
            "+-----------------------------------------------------------------------------+\n",
            "| NVIDIA-SMI 460.32.03    Driver Version: 460.32.03    CUDA Version: 11.2     |\n",
            "|-------------------------------+----------------------+----------------------+\n",
            "| GPU  Name        Persistence-M| Bus-Id        Disp.A | Volatile Uncorr. ECC |\n",
            "| Fan  Temp  Perf  Pwr:Usage/Cap|         Memory-Usage | GPU-Util  Compute M. |\n",
            "|                               |                      |               MIG M. |\n",
            "|===============================+======================+======================|\n",
            "|   0  Tesla T4            Off  | 00000000:00:04.0 Off |                    0 |\n",
            "| N/A   39C    P8     9W /  70W |      0MiB / 15109MiB |      0%      Default |\n",
            "|                               |                      |                  N/A |\n",
            "+-------------------------------+----------------------+----------------------+\n",
            "                                                                               \n",
            "+-----------------------------------------------------------------------------+\n",
            "| Processes:                                                                  |\n",
            "|  GPU   GI   CI        PID   Type   Process name                  GPU Memory |\n",
            "|        ID   ID                                                   Usage      |\n",
            "|=============================================================================|\n",
            "|  No running processes found                                                 |\n",
            "+-----------------------------------------------------------------------------+\n"
          ]
        }
      ],
      "source": [
        "!nvidia-smi"
      ]
    },
    {
      "cell_type": "code",
      "source": [
        "!nvcc --version"
      ],
      "metadata": {
        "colab": {
          "base_uri": "https://localhost:8080/"
        },
        "id": "92x3xZndzOO0",
        "outputId": "6e48481a-0aa5-463c-8155-2e870656ecc9"
      },
      "execution_count": 2,
      "outputs": [
        {
          "output_type": "stream",
          "name": "stdout",
          "text": [
            "nvcc: NVIDIA (R) Cuda compiler driver\n",
            "Copyright (c) 2005-2021 NVIDIA Corporation\n",
            "Built on Sun_Feb_14_21:12:58_PST_2021\n",
            "Cuda compilation tools, release 11.2, V11.2.152\n",
            "Build cuda_11.2.r11.2/compiler.29618528_0\n"
          ]
        }
      ]
    },
    {
      "cell_type": "code",
      "source": [
        "!pip install git+https://github.com/andreinechaev/nvcc4jupyter.git"
      ],
      "metadata": {
        "colab": {
          "base_uri": "https://localhost:8080/"
        },
        "id": "d1koZGk1zziA",
        "outputId": "10eff14e-3c9d-462a-b68c-9cd37e6bf67e"
      },
      "execution_count": 3,
      "outputs": [
        {
          "output_type": "stream",
          "name": "stdout",
          "text": [
            "Looking in indexes: https://pypi.org/simple, https://us-python.pkg.dev/colab-wheels/public/simple/\n",
            "Collecting git+https://github.com/andreinechaev/nvcc4jupyter.git\n",
            "  Cloning https://github.com/andreinechaev/nvcc4jupyter.git to /tmp/pip-req-build-8n_diho3\n",
            "  Running command git clone -q https://github.com/andreinechaev/nvcc4jupyter.git /tmp/pip-req-build-8n_diho3\n",
            "Building wheels for collected packages: NVCCPlugin\n",
            "  Building wheel for NVCCPlugin (setup.py) ... \u001b[?25l\u001b[?25hdone\n",
            "  Created wheel for NVCCPlugin: filename=NVCCPlugin-0.0.2-py3-none-any.whl size=4306 sha256=261f808586e59c064856261c633888916249313d8bec45af65ebd37f65768167\n",
            "  Stored in directory: /tmp/pip-ephem-wheel-cache-m2jb0gc_/wheels/ca/33/8d/3c86eb85e97d2b6169d95c6e8f2c297fdec60db6e84cb56f5e\n",
            "Successfully built NVCCPlugin\n",
            "Installing collected packages: NVCCPlugin\n",
            "Successfully installed NVCCPlugin-0.0.2\n"
          ]
        }
      ]
    },
    {
      "cell_type": "code",
      "source": [
        "%load_ext nvcc_plugin"
      ],
      "metadata": {
        "colab": {
          "base_uri": "https://localhost:8080/"
        },
        "id": "ihw_Nmd-z1l0",
        "outputId": "95f8f2b2-ef4f-4c40-9565-64bc356d026b"
      },
      "execution_count": 4,
      "outputs": [
        {
          "output_type": "stream",
          "name": "stdout",
          "text": [
            "created output directory at /content/src\n",
            "Out bin /content/result.out\n"
          ]
        }
      ]
    },
    {
      "cell_type": "code",
      "source": [
        "%%cu\n",
        "#include <stdio.h>\n",
        "#include <stdlib.h>\n",
        "#include <time.h>\n",
        "\n",
        "#define MATRIX_SIZE 1024\n",
        "#define BLOCK_WIDTH 32\n",
        "\n",
        "\n",
        "__global__ void convolution_2D_untiled(unsigned char * in, const unsigned char * mask, unsigned char * out, size_t mask_width, size_t w, size_t h) {\n",
        "    int tx = threadIdx.x;\n",
        "    int ty = threadIdx.y;\n",
        "\n",
        "    int col = blockIdx.x * blockDim.x + tx;\n",
        "    int row = blockIdx.y * blockDim.y + ty;\n",
        "\n",
        "    if (col < w && row < h){\n",
        "        //picking the starting indexes of input matrix inside the mask\n",
        "        //(TOP-LEFT of the mask)\n",
        "        int inputRow = row - (mask_width/2);\n",
        "        int inputCol = col - (mask_width/2);\n",
        "\n",
        "        //where to write the modified pixel\n",
        "        int outputPixel = 0;\n",
        "\n",
        "        for(int i = 0; i < mask_width; ++i){\n",
        "            for(int j = 0; j < mask_width; ++j){ \n",
        "                int currRow = inputRow + i;\n",
        "                int currCol = inputCol + j;\n",
        "                if(currRow > -1 && currRow < h && currCol > -1 && currCol < w)\n",
        "                    outputPixel += in[currRow * w + currCol ] * mask[ mask_width+j];\n",
        "            }\n",
        "        }\n",
        "\n",
        "        out[(row * w) + col] = (unsigned char)(outputPixel); \n",
        "    }\n",
        "}\n",
        "\n",
        "\n",
        "\n",
        "void launch_tests(int mask_width){\n",
        "    unsigned char *a, *b, *c;\n",
        "    cudaMallocManaged((void **) &a, sizeof(unsigned char)*MATRIX_SIZE*MATRIX_SIZE);\n",
        "    cudaMallocManaged((void **) &b, sizeof(unsigned char)*mask_width*mask_width);\n",
        "    cudaMallocManaged((void **) &c, sizeof(unsigned char)*MATRIX_SIZE*MATRIX_SIZE);\n",
        "\n",
        "    // initialize matrix A\n",
        "    for (int i = 0; i < MATRIX_SIZE; ++i) {\n",
        "        for (int j = 0; j < MATRIX_SIZE; ++j) {\n",
        "            a[i * MATRIX_SIZE + j] = 1 + ((i+j) / 2) + (3*j % 20); \n",
        "        }\n",
        "    }\n",
        "\n",
        "    // initialize matrix B\n",
        "    for (int i = 0; i < mask_width; ++i) {\n",
        "        for (int j = 0; j < mask_width; ++j) {\n",
        "            b[i * mask_width + j] =  1 + (((2*i) + j) % mask_width);\n",
        "        }\n",
        "    }\n",
        "\n",
        "    float  naive_gpu_elapsed_time_ms;\n",
        "\n",
        "    // some events to count the execution time\n",
        "    //clock_t st, end;\n",
        "    cudaEvent_t start, stop;\n",
        "    cudaEventCreate(&start);\n",
        "    cudaEventCreate(&stop);\n",
        "\n",
        "    unsigned int grid_rows = (MATRIX_SIZE + BLOCK_WIDTH - 1) / BLOCK_WIDTH;\n",
        "    unsigned int grid_cols = (MATRIX_SIZE + BLOCK_WIDTH - 1) / BLOCK_WIDTH;\n",
        "    dim3 dimGrid(grid_cols, grid_rows);\n",
        "    dim3 dimBlock(BLOCK_WIDTH, BLOCK_WIDTH);\n",
        "    \n",
        "    cudaEventRecord(start, 0);\n",
        "    convolution_2D_untiled<<<dimGrid, dimBlock>>>(a, b, c, mask_width, MATRIX_SIZE, MATRIX_SIZE);\n",
        "    cudaThreadSynchronize();\n",
        "\n",
        "    //time counting terminate\n",
        "    \n",
        "    cudaEventRecord(stop, 0);\n",
        "    cudaEventSynchronize(stop);\n",
        "\n",
        "    //compute time elapsed on GPU computing\n",
        "    cudaEventElapsedTime(&naive_gpu_elapsed_time_ms, start, stop);\n",
        "    printf(\"Time elapsed on naive GPU convolution 2d untiled ( %d ) block %f ms.\\n\\n\", BLOCK_WIDTH, naive_gpu_elapsed_time_ms);\n",
        "  \n",
        "    //free memory\n",
        "    cudaFree(a);\n",
        "    cudaFree(b);\n",
        "    cudaFree(c);\n",
        "    \n",
        "}\n",
        "\n",
        "int main(int argc, char const *argv[]) {\n",
        "    int nDevices;\n",
        "    cudaGetDeviceCount(&nDevices);\n",
        "    for (int i = 0; i < nDevices; i++) {\n",
        "      cudaDeviceProp prop;\n",
        "      cudaGetDeviceProperties(&prop, i);\n",
        "      printf(\"Device Number: %d\\n\", i);\n",
        "      printf(\"  Device name: %s\\n\", prop.name);\n",
        "      printf(\"  max Blocks Per MultiProcessor: %d\\n\", prop.maxBlocksPerMultiProcessor);\n",
        "      printf(\"  max Threads Per MultiProcessor: %d\\n\", prop.maxThreadsPerMultiProcessor);\n",
        "      printf(\"  max Threads Per Block: %d\\n\", prop.maxThreadsPerBlock);\n",
        "      printf(\"  num SM: %d\\n\", prop.multiProcessorCount);\n",
        "      printf(\"  num bytes sharedMem Per Block: %d\\n\", prop.sharedMemPerBlock);\n",
        "      printf(\"  num bytes sharedMem Per Multiprocessor: %d\\n\", prop.sharedMemPerMultiprocessor);\n",
        "      printf(\"  Memory Clock Rate (KHz): %d\\n\",\n",
        "           prop.memoryClockRate);\n",
        "      printf(\"  Memory Bus Width (bits): %d\\n\",\n",
        "           prop.memoryBusWidth);\n",
        "      printf(\"  Peak Memory Bandwidth (GB/s): %f\\n\\n\",\n",
        "           2.0*prop.memoryClockRate*(prop.memoryBusWidth/8)/1.0e6);\n",
        "    }\n",
        " \n",
        "    for(int ms = 3; ms <= 9; ms+=2){\n",
        "        printf(\"Testing with mask size = %d\\n\\n\", ms);\n",
        "        launch_tests(ms);\n",
        "        printf(\"________________________________________________________________________\\n\\n\");\n",
        "    }\n",
        "    return 0;\n",
        "}\n"
      ],
      "metadata": {
        "id": "devYByZ76Hbv",
        "outputId": "9a0217a9-1e04-4706-bc57-6bbaca824ac3",
        "colab": {
          "base_uri": "https://localhost:8080/"
        }
      },
      "execution_count": 7,
      "outputs": [
        {
          "output_type": "stream",
          "name": "stdout",
          "text": [
            "\n"
          ]
        }
      ]
    },
    {
      "cell_type": "code",
      "source": [
        "%%cu\n",
        "#include <stdio.h>\n",
        "#include <stdlib.h>\n",
        "#include <time.h>\n",
        "\n",
        "#define MATRIX_SIZE 1024\n",
        "#define BLOCK_WIDTH 32\n",
        "\n",
        "__global__ void convolution_2D_tiled(unsigned char * in, const unsigned char * __restrict__ mask, unsigned char * out, int mask_width , int w, int h) {\n",
        "    int tx = threadIdx.x;\n",
        "    int ty = threadIdx.y;\n",
        "\n",
        "    int tile_width = BLOCK_WIDTH - mask_width + 1; //since BLOCK_WIDTH = TILE_WIDTH + MASK_WIDTH - 1\n",
        "\n",
        "    int col = blockIdx.x * tile_width + tx;\n",
        "    int row = blockIdx.y * tile_width + ty;\n",
        "\n",
        "\n",
        "    __shared__ unsigned char tile[BLOCK_WIDTH][BLOCK_WIDTH];\n",
        "    \n",
        "    //some thread won't write any outputs\n",
        "    if (col < w && row < h){\n",
        "        //picking the starting indexes of input matrix inside the mask\n",
        "        //(TOP-LEFT of the mask)\n",
        "        int inputRow = row - (mask_width/2);\n",
        "        int inputCol = col - (mask_width/2);\n",
        "\n",
        "        // Load tile elements\n",
        "        if(inputRow >= 0 && inputRow < h && inputCol >= 0 && inputCol < w)\n",
        "            tile[ty][tx] = in[inputRow*w + inputCol]; \n",
        "        else\n",
        "            tile[ty][tx] = 0.0;\n",
        "\n",
        "        // Wait until all tile elements are loaded\n",
        "        __syncthreads();\n",
        "\n",
        "        //where to write the modified pixel\n",
        "        int outputPixel = 0;\n",
        "\n",
        "        if(ty < tile_width && tx < tile_width){\n",
        "          //get the neighbour in the mask\n",
        "          for(int i = 0; i < mask_width; ++i){\n",
        "            for(int j = 0; j < mask_width; ++j){ //(Mask_Width^2) access for each thread in block -> for each block (Mask_Width^2) * (Block_width^2)\n",
        "            outputPixel += tile[i + ty][j + tx] * mask[i * mask_width + j];\n",
        "            }\n",
        "          }\n",
        "        }\n",
        "        out[(row * w) + col] = (unsigned char)(outputPixel); \n",
        "    }\n",
        "}\n",
        "\n",
        "void launch_tests(int mask_width){\n",
        "    unsigned char *a, *b, *c;\n",
        "    cudaMallocManaged((void **) &a, sizeof(unsigned char)*MATRIX_SIZE*MATRIX_SIZE);\n",
        "    cudaMallocManaged((void **) &b, sizeof(unsigned char)*mask_width*mask_width);\n",
        "    cudaMallocManaged((void **) &c, sizeof(unsigned char)*MATRIX_SIZE*MATRIX_SIZE);\n",
        "\n",
        "    // initialize matrix A\n",
        "    for (int i = 0; i < MATRIX_SIZE; ++i) {\n",
        "        for (int j = 0; j < MATRIX_SIZE; ++j) {\n",
        "            a[i * MATRIX_SIZE + j] = 1 + ((i+j) / 2) + (3*j % 20); \n",
        "        }\n",
        "    }\n",
        "\n",
        "    // initialize matrix B\n",
        "    for (int i = 0; i < mask_width; ++i) {\n",
        "        for (int j = 0; j < mask_width; ++j) {\n",
        "            b[i * mask_width + j] =  1 + (((2*i) + j) % mask_width);\n",
        "        }\n",
        "    }\n",
        "\n",
        "    float  naive_gpu_elapsed_time_ms;\n",
        "\n",
        "    // some events to count the execution time\n",
        "    //clock_t st, end;\n",
        "    cudaEvent_t start, stop;\n",
        "    cudaEventCreate(&start);\n",
        "    cudaEventCreate(&stop);\n",
        "\n",
        "    int tile_width = BLOCK_WIDTH - mask_width + 1;\n",
        "    unsigned int grid_size = MATRIX_SIZE / tile_width;\n",
        "    dim3 dimGrid(grid_size, grid_size);\n",
        "    dim3 dimBlock(BLOCK_WIDTH, BLOCK_WIDTH);\n",
        "    \n",
        "    cudaEventRecord(start, 0);\n",
        "    convolution_2D_tiled<<<dimGrid, dimBlock>>>(a, b, c, mask_width, MATRIX_SIZE, MATRIX_SIZE);\n",
        "    cudaThreadSynchronize();\n",
        "\n",
        "    //time counting terminate\n",
        "    \n",
        "    cudaEventRecord(stop, 0);\n",
        "    cudaEventSynchronize(stop);\n",
        "\n",
        "    //compute time elapsed on GPU computing\n",
        "    cudaEventElapsedTime(&naive_gpu_elapsed_time_ms, start, stop);\n",
        "    printf(\"Time elapsed on naive GPU convolution 2d tiled ( %d ) block %f ms.\\n\\n\", BLOCK_WIDTH, naive_gpu_elapsed_time_ms);\n",
        "  \n",
        "    //free memory\n",
        "    cudaFree(a);\n",
        "    cudaFree(b);\n",
        "    cudaFree(c);\n",
        "    \n",
        "}\n",
        "\n",
        "int main(int argc, char const *argv[]) {\n",
        "    int nDevices;\n",
        "    cudaGetDeviceCount(&nDevices);\n",
        "    for (int i = 0; i < nDevices; i++) {\n",
        "      cudaDeviceProp prop;\n",
        "      cudaGetDeviceProperties(&prop, i);\n",
        "      printf(\"Device Number: %d\\n\", i);\n",
        "      printf(\"  Device name: %s\\n\", prop.name);\n",
        "      printf(\"  max Blocks Per MultiProcessor: %d\\n\", prop.maxBlocksPerMultiProcessor);\n",
        "      printf(\"  max Threads Per MultiProcessor: %d\\n\", prop.maxThreadsPerMultiProcessor);\n",
        "      printf(\"  max Threads Per Block: %d\\n\", prop.maxThreadsPerBlock);\n",
        "      printf(\"  num SM: %d\\n\", prop.multiProcessorCount);\n",
        "      printf(\"  num bytes sharedMem Per Block: %d\\n\", prop.sharedMemPerBlock);\n",
        "      printf(\"  num bytes sharedMem Per Multiprocessor: %d\\n\", prop.sharedMemPerMultiprocessor);\n",
        "      printf(\"  Memory Clock Rate (KHz): %d\\n\",\n",
        "           prop.memoryClockRate);\n",
        "      printf(\"  Memory Bus Width (bits): %d\\n\",\n",
        "           prop.memoryBusWidth);\n",
        "      printf(\"  Peak Memory Bandwidth (GB/s): %f\\n\\n\",\n",
        "           2.0*prop.memoryClockRate*(prop.memoryBusWidth/8)/1.0e6);\n",
        "    }\n",
        " \n",
        "    for(int ms = 3; ms <= 9; ms+=2){\n",
        "        printf(\"Testing with mask size = %d\\n\\n\", ms);\n",
        "        launch_tests(ms);\n",
        "        printf(\"________________________________________________________________________\\n\\n\");\n",
        "    }\n",
        "    return 0;\n",
        "}"
      ],
      "metadata": {
        "id": "CqAy83FHMl-V",
        "outputId": "5bac28a8-8c91-4ce9-844b-e9bacc8c55d9",
        "colab": {
          "base_uri": "https://localhost:8080/"
        }
      },
      "execution_count": 8,
      "outputs": [
        {
          "output_type": "stream",
          "name": "stdout",
          "text": [
            "\n"
          ]
        }
      ]
    }
  ]
}