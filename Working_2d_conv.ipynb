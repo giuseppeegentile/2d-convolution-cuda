{
  "nbformat": 4,
  "nbformat_minor": 0,
  "metadata": {
    "colab": {
      "provenance": [],
      "authorship_tag": "ABX9TyMdSTAXKBCbc/tkywljHdCr",
      "include_colab_link": true
    },
    "kernelspec": {
      "name": "python3",
      "display_name": "Python 3"
    },
    "language_info": {
      "name": "python"
    },
    "accelerator": "GPU",
    "gpuClass": "standard"
  },
  "cells": [
    {
      "cell_type": "markdown",
      "metadata": {
        "id": "view-in-github",
        "colab_type": "text"
      },
      "source": [
        "<a href=\"https://colab.research.google.com/github/giuseppeegentile/2d-convolution-cuda/blob/main/Working_2d_conv.ipynb\" target=\"_parent\"><img src=\"https://colab.research.google.com/assets/colab-badge.svg\" alt=\"Open In Colab\"/></a>"
      ]
    },
    {
      "cell_type": "code",
      "source": [
        "!nvcc --version"
      ],
      "metadata": {
        "colab": {
          "base_uri": "https://localhost:8080/"
        },
        "id": "8hVCHVyQo_Sw",
        "outputId": "faaa10fe-12bc-4af6-fb91-a515cfe3d9e6"
      },
      "execution_count": null,
      "outputs": [
        {
          "output_type": "stream",
          "name": "stdout",
          "text": [
            "nvcc: NVIDIA (R) Cuda compiler driver\n",
            "Copyright (c) 2005-2021 NVIDIA Corporation\n",
            "Built on Sun_Feb_14_21:12:58_PST_2021\n",
            "Cuda compilation tools, release 11.2, V11.2.152\n",
            "Build cuda_11.2.r11.2/compiler.29618528_0\n"
          ]
        }
      ]
    },
    {
      "cell_type": "code",
      "execution_count": 2,
      "metadata": {
        "colab": {
          "base_uri": "https://localhost:8080/"
        },
        "id": "uLGhdpGjoluQ",
        "outputId": "2a8ee7a8-b29c-4ddc-dc2c-4bdfa18d5d7c"
      },
      "outputs": [
        {
          "output_type": "stream",
          "name": "stdout",
          "text": [
            "Looking in indexes: https://pypi.org/simple, https://us-python.pkg.dev/colab-wheels/public/simple/\n",
            "Collecting git+https://github.com/andreinechaev/nvcc4jupyter.git\n",
            "  Cloning https://github.com/andreinechaev/nvcc4jupyter.git to /tmp/pip-req-build-u_h1lo3m\n",
            "  Running command git clone -q https://github.com/andreinechaev/nvcc4jupyter.git /tmp/pip-req-build-u_h1lo3m\n",
            "Building wheels for collected packages: NVCCPlugin\n",
            "  Building wheel for NVCCPlugin (setup.py) ... \u001b[?25l\u001b[?25hdone\n",
            "  Created wheel for NVCCPlugin: filename=NVCCPlugin-0.0.2-py3-none-any.whl size=4306 sha256=ed688ccaa9467464b4bc73757d1a5ed79c3a281baad47f895c828d73901031e2\n",
            "  Stored in directory: /tmp/pip-ephem-wheel-cache-4yzurwit/wheels/ca/33/8d/3c86eb85e97d2b6169d95c6e8f2c297fdec60db6e84cb56f5e\n",
            "Successfully built NVCCPlugin\n",
            "Installing collected packages: NVCCPlugin\n",
            "Successfully installed NVCCPlugin-0.0.2\n"
          ]
        }
      ],
      "source": [
        "!pip install git+https://github.com/andreinechaev/nvcc4jupyter.git"
      ]
    },
    {
      "cell_type": "code",
      "source": [
        "%load_ext nvcc_plugin"
      ],
      "metadata": {
        "colab": {
          "base_uri": "https://localhost:8080/"
        },
        "id": "6pNDpV__o3EM",
        "outputId": "834961be-606f-4a70-b0c9-37ba8d873486"
      },
      "execution_count": 3,
      "outputs": [
        {
          "output_type": "stream",
          "name": "stdout",
          "text": [
            "created output directory at /content/src\n",
            "Out bin /content/result.out\n"
          ]
        }
      ]
    },
    {
      "cell_type": "code",
      "source": [
        "%%cu\n",
        "#include <cuda.h>\n",
        "#include <stdio.h>\n",
        "#include <time.h>\n",
        "#include <stdlib.h>\n",
        "\n",
        "#define BLOCK_WIDTH 32\n",
        "#define MATRIX_SIZE 1024\n",
        "\n",
        "// kernel\n",
        "__global__ void tiledConvolution_2D_Kernel(float* inp, const float* d_mask, float* out, size_t maskWidth)\n",
        "{\n",
        "    float result = 0;\n",
        "   \n",
        "    // indexing variables\n",
        "    int outRow = blockIdx.y * blockDim.y + threadIdx.y;\n",
        "    int outCol = blockIdx.x * blockDim.x + threadIdx.x;\n",
        "    \n",
        "    int inputRow = outRow - maskWidth / 2;\n",
        "    int inputCol = outCol - maskWidth / 2;\n",
        "  \n",
        "    \n",
        "    // thread boundary check for calculation\n",
        "    if(outRow < MATRIX_SIZE && outCol < MATRIX_SIZE)\n",
        "    {\n",
        "        for(int i = 0; i < maskWidth; ++i)\n",
        "        {\n",
        "            for(int j = 0; j < maskWidth; ++j)\n",
        "            {\n",
        "                int curCol = inputCol + j;\n",
        "                int curRow = inputRow + i;\n",
        "                if (curCol < MATRIX_SIZE && curRow < MATRIX_SIZE && curCol > -1 && curRow > -1) \n",
        "                  result += inp[curRow * MATRIX_SIZE + curCol] * d_mask[i * maskWidth + j];\n",
        "            }\n",
        "        }\n",
        "        \n",
        "        // write result \n",
        "        out[outRow * MATRIX_SIZE + outCol] = result;\n",
        "    }\n",
        "}\n",
        "\n",
        "// CUDA error checking\n",
        "void errorCheck(unsigned int line)\n",
        "{\n",
        "    cudaError_t cudaError = cudaGetLastError();\n",
        "\n",
        "    if(cudaError != cudaSuccess)\n",
        "    {\n",
        "        printf(\"CUDA error in line %u in file %s: %s\\n\", line - 1, __FILE__, cudaGetErrorString(cudaError));\n",
        "        exit(EXIT_FAILURE);\n",
        "    }\n",
        "}\n",
        "\n",
        "// host function containing kernel call\n",
        "void convolution_2D(float* m, float* mask, float* n, size_t maskWidth) {\n",
        "    float  naive_gpu_elapsed_time_ms;\n",
        "    //clock_t st, end;\n",
        "    cudaEvent_t start, stop;\n",
        "    cudaEventCreate(&start);\n",
        "    cudaEventCreate(&stop);\n",
        "    dim3 dimGrid(ceil(MATRIX_SIZE + BLOCK_WIDTH - 1/BLOCK_WIDTH), ceil(MATRIX_SIZE + BLOCK_WIDTH - 1/  BLOCK_WIDTH), 1);\n",
        "    dim3 dimBlock(BLOCK_WIDTH, BLOCK_WIDTH, 1);\n",
        "\n",
        "    float* d_m;\n",
        "    float* d_mask;\n",
        "    float* d_n;\n",
        "\n",
        "    cudaMalloc((void**) &d_m, MATRIX_SIZE * MATRIX_SIZE * sizeof(float));\n",
        "    cudaMalloc((void**) &d_mask, maskWidth * maskWidth * sizeof(float));\n",
        "    cudaMalloc((void**) &d_n, MATRIX_SIZE * MATRIX_SIZE * sizeof(float));\n",
        "    \n",
        "    cudaMemcpy(d_m, m, MATRIX_SIZE * MATRIX_SIZE * sizeof(float), cudaMemcpyHostToDevice);\n",
        "    cudaMemcpy(d_mask, mask, maskWidth * maskWidth * sizeof(float), cudaMemcpyHostToDevice);\n",
        "    cudaEventRecord(start, 0);\n",
        "    tiledConvolution_2D_Kernel<<<dimGrid, dimBlock>>>(d_m, d_mask, d_n, maskWidth);\n",
        "    \n",
        "\n",
        "    cudaThreadSynchronize();\n",
        "\n",
        "    //time counting terminate\n",
        "    cudaEventRecord(stop, 0);\n",
        "    cudaEventSynchronize(stop);\n",
        "    cudaEventElapsedTime(&naive_gpu_elapsed_time_ms, start, stop);\n",
        "    printf(\"Mask size: %d\\n\", maskWidth);\n",
        "    printf(\"Time elapsed on naive GPU convolution 2d untiled ( %d ) block %f ms.\\n\\n\", BLOCK_WIDTH, naive_gpu_elapsed_time_ms);\n",
        "    printf(\"______________________________________________________________________________\\n\");\n",
        "    cudaMemcpy(n, d_n, MATRIX_SIZE * MATRIX_SIZE * sizeof(float), cudaMemcpyDeviceToHost);\n",
        "\n",
        "    cudaFree(d_m);\n",
        "    cudaFree(d_mask);\n",
        "    cudaFree(d_n);\n",
        "}\n",
        "\n",
        "int main()\n",
        "{\n",
        "     for(size_t maskWidth = 11; maskWidth <= 17; maskWidth+=2){\n",
        "      float* inp = (float*) malloc(MATRIX_SIZE * MATRIX_SIZE * sizeof(float));\n",
        "      float* mask = (float*) malloc(maskWidth * maskWidth * sizeof(float));\n",
        "      float* out = (float*) malloc(MATRIX_SIZE * MATRIX_SIZE * sizeof(float));\n",
        "\n",
        "      for(int i = 0; i < MATRIX_SIZE * MATRIX_SIZE; ++i) {\n",
        "          inp[i] = (float)(1 +(3 * i % 20));\n",
        "      }\n",
        "    \n",
        "      for(int j = 0; j < maskWidth * maskWidth; ++j) {\n",
        "          mask[j] = (float)(1 + (((2 * j)) % maskWidth));\n",
        "      }\n",
        "      \n",
        "      // do convolution\n",
        "      convolution_2D(inp, mask, out, maskWidth);\n",
        "    }\n",
        "\n",
        "\n",
        "    return 0;\n",
        "}"
      ],
      "metadata": {
        "colab": {
          "base_uri": "https://localhost:8080/"
        },
        "id": "qt_GkVXlp7lf",
        "outputId": "0afe64ba-1f03-4280-b631-0d0f3145fa38"
      },
      "execution_count": 25,
      "outputs": [
        {
          "output_type": "stream",
          "name": "stdout",
          "text": [
            "Mask size: 11\n",
            "Time elapsed on naive GPU convolution 2d untiled ( 32 ) block 18.565121 ms.\n",
            "\n",
            "______________________________________________________________________________\n",
            "Mask size: 13\n",
            "Time elapsed on naive GPU convolution 2d untiled ( 32 ) block 18.814432 ms.\n",
            "\n",
            "______________________________________________________________________________\n",
            "Mask size: 15\n",
            "Time elapsed on naive GPU convolution 2d untiled ( 32 ) block 19.213600 ms.\n",
            "\n",
            "______________________________________________________________________________\n",
            "Mask size: 17\n",
            "Time elapsed on naive GPU convolution 2d untiled ( 32 ) block 19.587105 ms.\n",
            "\n",
            "______________________________________________________________________________\n",
            "\n"
          ]
        }
      ]
    },
    {
      "cell_type": "code",
      "source": [
        "%%cu\n",
        "#include <cuda.h>\n",
        "#include <stdio.h>\n",
        "#include <time.h>\n",
        "#include <stdlib.h>\n",
        "\n",
        "#define BLOCK_WIDTH 32\n",
        "#define MATRIX_SIZE 1024\n",
        "// kernel\n",
        "__global__ void tiledConvolution_2D_Kernel(float* inp, const float* __restrict__ mask, float* d_n, size_t maskWidth, int N_TILE_WIDTH)\n",
        "{\n",
        "    float result = 0;\n",
        "   \n",
        "    int outputRow = blockIdx.y * N_TILE_WIDTH + threadIdx.y;\n",
        "    int outputCol = blockIdx.x * N_TILE_WIDTH + threadIdx.x;\n",
        "    \n",
        "    int inputRow = outputRow - maskWidth / 2;\n",
        "    int inputCol = outputCol - maskWidth / 2;\n",
        "    \n",
        "    __shared__ float tile[BLOCK_WIDTH][BLOCK_WIDTH];\n",
        "    \n",
        "    // thread boundary check for loading input tiles\n",
        "    if(inputRow >= 0 && inputRow < MATRIX_SIZE && inputCol >= 0 && inputCol < MATRIX_SIZE){\n",
        "        tile[threadIdx.y][threadIdx.x] = inp[inputRow * MATRIX_SIZE + inputCol];\n",
        "    }\n",
        "    else {\n",
        "        tile[threadIdx.y][threadIdx.x] = 0;\n",
        "    }\n",
        "    \n",
        "    __syncthreads();\n",
        "    \n",
        "    // thread boundary check for calculation\n",
        "    if(threadIdx.y < N_TILE_WIDTH && threadIdx.x < N_TILE_WIDTH && outputRow < MATRIX_SIZE && outputCol < MATRIX_SIZE){\n",
        "        for(int i = 0; i < maskWidth; ++i){\n",
        "            for(int j = 0; j < maskWidth; ++j){\n",
        "                result += mask[i * maskWidth + j] * tile[threadIdx.y + i][threadIdx.x + j];\n",
        "            }\n",
        "        }\n",
        "        \n",
        "        // write result \n",
        "        d_n[outputRow * MATRIX_SIZE + outputCol] = result;\n",
        "    }\n",
        "}\n",
        "\n",
        "// host function containing kernel call\n",
        "void convolution_2D(float* m, float* mask, float* n, size_t maskWidth, int N_TILE_WIDTH) {\n",
        "    \n",
        "     float  naive_gpu_elapsed_time_ms;\n",
        "\n",
        "    // some events to count the execution time\n",
        "    //clock_t st, end;\n",
        "    cudaEvent_t start, stop;\n",
        "    cudaEventCreate(&start);\n",
        "    cudaEventCreate(&stop);\n",
        "\n",
        "    dim3 dimGrid(ceil(MATRIX_SIZE / (float) N_TILE_WIDTH), ceil(MATRIX_SIZE / (float) N_TILE_WIDTH), 1);\n",
        "    dim3 dimBlock(BLOCK_WIDTH, BLOCK_WIDTH, 1);\n",
        "\n",
        "    float* d_m;\n",
        "    float* d_mask;\n",
        "    float* d_n;\n",
        "\n",
        "    cudaMalloc((void**) &d_m, MATRIX_SIZE * MATRIX_SIZE * sizeof(float));\n",
        "    \n",
        "    cudaMalloc((void**) &d_mask, maskWidth * maskWidth * sizeof(float));\n",
        "    \n",
        "    cudaMalloc((void**) &d_n, MATRIX_SIZE * MATRIX_SIZE * sizeof(float));\n",
        "    \n",
        "    \n",
        "    cudaMemcpy(d_m, m, MATRIX_SIZE * MATRIX_SIZE * sizeof(float), cudaMemcpyHostToDevice);\n",
        "    \n",
        "    cudaMemcpy(d_mask, mask, maskWidth * maskWidth * sizeof(float), cudaMemcpyHostToDevice);\n",
        "    \n",
        "\n",
        "    cudaEventRecord(start, 0);\n",
        "\n",
        "    tiledConvolution_2D_Kernel<<<dimGrid, dimBlock>>>(d_m, d_mask, d_n, maskWidth,  N_TILE_WIDTH);\n",
        "    \n",
        " \n",
        "     cudaThreadSynchronize();\n",
        "\n",
        "    //time counting terminate\n",
        "    cudaEventRecord(stop, 0);\n",
        "    cudaEventSynchronize(stop);\n",
        "    cudaEventElapsedTime(&naive_gpu_elapsed_time_ms, start, stop);\n",
        "    printf(\"Mask size: %d\\n\", maskWidth);\n",
        "    printf(\"Time elapsed on naive GPU convolution 2d untiled ( %d ) block %f ms.\\n\\n\", BLOCK_WIDTH, naive_gpu_elapsed_time_ms);\n",
        "    printf(\"______________________________________________________________________________\\n\");\n",
        "    cudaMemcpy(n, d_n, maskWidth * maskWidth * sizeof(float), cudaMemcpyDeviceToHost);\n",
        "\n",
        "\n",
        "    cudaFree(d_m);\n",
        "    \n",
        "    cudaFree(d_mask);\n",
        "    \n",
        "    cudaFree(d_n);\n",
        "    \n",
        "}\n",
        "int main() {\n",
        "    \n",
        "    for(size_t maskWidth = 11; maskWidth <= 17; maskWidth+=2){\n",
        "      int N_TILE_WIDTH = BLOCK_WIDTH - (maskWidth - 1);\n",
        "      float* inp = (float*) malloc(MATRIX_SIZE * MATRIX_SIZE * sizeof(float));\n",
        "      float* mask = (float*) malloc(maskWidth * maskWidth * sizeof(float));\n",
        "      float* out = (float*) malloc(MATRIX_SIZE * MATRIX_SIZE * sizeof(float));\n",
        "\n",
        "      for(int i = 0; i < MATRIX_SIZE * MATRIX_SIZE; ++i) {\n",
        "          inp[i] = (float)(1 +(3 * i % 20));\n",
        "      }\n",
        "    \n",
        "      for(int j = 0; j < maskWidth * maskWidth; ++j) {\n",
        "          mask[j] = (float)(1 + (((2 * j)) % maskWidth));\n",
        "      }\n",
        "      \n",
        "      // do convolution\n",
        "      convolution_2D(inp, mask, out, maskWidth, N_TILE_WIDTH);\n",
        "    }\n",
        "\n",
        "\n",
        "    return 0;\n",
        "}"
      ],
      "metadata": {
        "colab": {
          "base_uri": "https://localhost:8080/"
        },
        "id": "lyg-kU9MpNuW",
        "outputId": "9e5e6bdb-b174-41e0-9b69-702d7280b250"
      },
      "execution_count": 26,
      "outputs": [
        {
          "output_type": "stream",
          "name": "stdout",
          "text": [
            "Mask size: 11\n",
            "Time elapsed on naive GPU convolution 2d untiled ( 32 ) block 1.236800 ms.\n",
            "\n",
            "______________________________________________________________________________\n",
            "Mask size: 13\n",
            "Time elapsed on naive GPU convolution 2d untiled ( 32 ) block 1.863456 ms.\n",
            "\n",
            "______________________________________________________________________________\n",
            "Mask size: 15\n",
            "Time elapsed on naive GPU convolution 2d untiled ( 32 ) block 2.660992 ms.\n",
            "\n",
            "______________________________________________________________________________\n",
            "Mask size: 17\n",
            "Time elapsed on naive GPU convolution 2d untiled ( 32 ) block 3.772160 ms.\n",
            "\n",
            "______________________________________________________________________________\n",
            "\n"
          ]
        }
      ]
    }
  ]
}