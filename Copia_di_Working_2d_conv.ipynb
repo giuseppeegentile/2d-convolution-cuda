{
  "nbformat": 4,
  "nbformat_minor": 0,
  "metadata": {
    "colab": {
      "provenance": [],
      "authorship_tag": "ABX9TyO0OId+8/5oJnzuDT8yDb25",
      "include_colab_link": true
    },
    "kernelspec": {
      "name": "python3",
      "display_name": "Python 3"
    },
    "language_info": {
      "name": "python"
    },
    "gpuClass": "standard"
  },
  "cells": [
    {
      "cell_type": "markdown",
      "metadata": {
        "id": "view-in-github",
        "colab_type": "text"
      },
      "source": [
        "<a href=\"https://colab.research.google.com/github/giuseppeegentile/2d-convolution-cuda/blob/main/Copia_di_Working_2d_conv.ipynb\" target=\"_parent\"><img src=\"https://colab.research.google.com/assets/colab-badge.svg\" alt=\"Open In Colab\"/></a>"
      ]
    },
    {
      "cell_type": "code",
      "source": [
        "!nvcc --version"
      ],
      "metadata": {
        "colab": {
          "base_uri": "https://localhost:8080/"
        },
        "id": "8hVCHVyQo_Sw",
        "outputId": "faaa10fe-12bc-4af6-fb91-a515cfe3d9e6"
      },
      "execution_count": null,
      "outputs": [
        {
          "output_type": "stream",
          "name": "stdout",
          "text": [
            "nvcc: NVIDIA (R) Cuda compiler driver\n",
            "Copyright (c) 2005-2021 NVIDIA Corporation\n",
            "Built on Sun_Feb_14_21:12:58_PST_2021\n",
            "Cuda compilation tools, release 11.2, V11.2.152\n",
            "Build cuda_11.2.r11.2/compiler.29618528_0\n"
          ]
        }
      ]
    },
    {
      "cell_type": "code",
      "execution_count": null,
      "metadata": {
        "colab": {
          "base_uri": "https://localhost:8080/"
        },
        "id": "uLGhdpGjoluQ",
        "outputId": "a0e86bdf-f050-4b04-c16e-22a2f94f33b1"
      },
      "outputs": [
        {
          "output_type": "stream",
          "name": "stdout",
          "text": [
            "Looking in indexes: https://pypi.org/simple, https://us-python.pkg.dev/colab-wheels/public/simple/\n",
            "Collecting git+https://github.com/andreinechaev/nvcc4jupyter.git\n",
            "  Cloning https://github.com/andreinechaev/nvcc4jupyter.git to /tmp/pip-req-build-b2teuotl\n",
            "  Running command git clone -q https://github.com/andreinechaev/nvcc4jupyter.git /tmp/pip-req-build-b2teuotl\n",
            "Building wheels for collected packages: NVCCPlugin\n",
            "  Building wheel for NVCCPlugin (setup.py) ... \u001b[?25l\u001b[?25hdone\n",
            "  Created wheel for NVCCPlugin: filename=NVCCPlugin-0.0.2-py3-none-any.whl size=4306 sha256=841f72f99a620992c9e9ee025ef50828edeff5d5b032379516364bccd6e3897b\n",
            "  Stored in directory: /tmp/pip-ephem-wheel-cache-7_hu9beo/wheels/ca/33/8d/3c86eb85e97d2b6169d95c6e8f2c297fdec60db6e84cb56f5e\n",
            "Successfully built NVCCPlugin\n",
            "Installing collected packages: NVCCPlugin\n",
            "Successfully installed NVCCPlugin-0.0.2\n"
          ]
        }
      ],
      "source": [
        "!pip install git+https://github.com/andreinechaev/nvcc4jupyter.git"
      ]
    },
    {
      "cell_type": "code",
      "source": [
        "%load_ext nvcc_plugin"
      ],
      "metadata": {
        "colab": {
          "base_uri": "https://localhost:8080/"
        },
        "id": "6pNDpV__o3EM",
        "outputId": "fa8b0c6c-aaee-46d0-b13e-bd11622e5b3b"
      },
      "execution_count": null,
      "outputs": [
        {
          "output_type": "stream",
          "name": "stdout",
          "text": [
            "created output directory at /content/src\n",
            "Out bin /content/result.out\n"
          ]
        }
      ]
    },
    {
      "cell_type": "markdown",
      "source": [
        "# Untiled case"
      ],
      "metadata": {
        "id": "tugc9hcyyTB2"
      }
    },
    {
      "cell_type": "code",
      "source": [
        "%%cu\n",
        "#include <cuda.h>\n",
        "#include <stdio.h>\n",
        "#include <time.h>\n",
        "#include <stdlib.h>\n",
        "\n",
        "#define BLOCK_WIDTH 32\n",
        "#define MATRIX_SIZE 1024\n",
        "\n",
        "__global__ void untiledConvolution_2D_Kernel(unsigned char* inp, const unsigned char* d_mask, unsigned char* out, size_t maskWidth) {\n",
        "    unsigned char result = 0;\n",
        "   \n",
        "    // indexing variables\n",
        "    int outRow = blockIdx.y * blockDim.y + threadIdx.y;\n",
        "    int outCol = blockIdx.x * blockDim.x + threadIdx.x;\n",
        "    \n",
        "    if(outRow < MATRIX_SIZE && outCol < MATRIX_SIZE){\n",
        "      int inputRow = outRow - maskWidth / 2;\n",
        "      int inputCol = outCol - maskWidth / 2;\n",
        "      \n",
        "      for(int i = 0; i < maskWidth; ++i){\n",
        "          for(int j = 0; j < maskWidth; ++j){\n",
        "              int curCol = inputCol + j;\n",
        "              int curRow = inputRow + i;\n",
        "              if (curCol < MATRIX_SIZE && curRow < MATRIX_SIZE && curCol > -1 && curRow > -1) \n",
        "                result += inp[curRow * MATRIX_SIZE + curCol] * d_mask[i * maskWidth + j];\n",
        "          }\n",
        "    \n",
        "      \n",
        "      // write result\n",
        "      out[outRow * MATRIX_SIZE + outCol] = result;\n",
        "      }\n",
        "    }\n",
        "}\n",
        "\n",
        "\n",
        "void launch_kernel(unsigned char* m, unsigned char* mask, unsigned char* n, size_t maskWidth) {\n",
        "    float  naive_gpu_elapsed_time_ms;\n",
        "    //clock_t st, end;\n",
        "    cudaEvent_t start, stop;\n",
        "    cudaEventCreate(&start);\n",
        "    cudaEventCreate(&stop);\n",
        "\n",
        "    dim3 dimGrid(ceil(MATRIX_SIZE + BLOCK_WIDTH - 1/BLOCK_WIDTH), ceil(MATRIX_SIZE + BLOCK_WIDTH - 1/  BLOCK_WIDTH), 1);\n",
        "    dim3 dimBlock(BLOCK_WIDTH, BLOCK_WIDTH, 1);\n",
        "\n",
        "    unsigned char* d_m;\n",
        "    unsigned char* d_mask;\n",
        "    unsigned char* d_n;\n",
        "\n",
        "    cudaMalloc((void**) &d_m, MATRIX_SIZE * MATRIX_SIZE * sizeof(unsigned char));\n",
        "    cudaMalloc((void**) &d_mask, maskWidth * maskWidth * sizeof(unsigned char));\n",
        "    cudaMalloc((void**) &d_n, MATRIX_SIZE * MATRIX_SIZE * sizeof(unsigned char));\n",
        "    \n",
        "    cudaMemcpy(d_m, m, MATRIX_SIZE * MATRIX_SIZE * sizeof(unsigned char), cudaMemcpyHostToDevice);\n",
        "    cudaMemcpy(d_mask, mask, maskWidth * maskWidth * sizeof(unsigned char), cudaMemcpyHostToDevice);\n",
        "    cudaEventRecord(start, 0);\n",
        "    untiledConvolution_2D_Kernel<<<dimGrid, dimBlock>>>(d_m, d_mask, d_n, maskWidth);\n",
        "    \n",
        "\n",
        "    cudaThreadSynchronize();\n",
        "\n",
        "    //time counting terminate\n",
        "    cudaEventRecord(stop, 0);\n",
        "    cudaEventSynchronize(stop);\n",
        "    cudaEventElapsedTime(&naive_gpu_elapsed_time_ms, start, stop);\n",
        "    printf(\"Mask size: %d\\n\", maskWidth);\n",
        "    printf(\"Time elapsed on naive GPU convolution 2d untiled ( %d ) block %f ms.\\n\\n\", BLOCK_WIDTH, naive_gpu_elapsed_time_ms);\n",
        "    printf(\"______________________________________________________________________________\\n\");\n",
        "    cudaMemcpy(n, d_n, MATRIX_SIZE * MATRIX_SIZE * sizeof(float), cudaMemcpyDeviceToHost);\n",
        "\n",
        "    cudaFree(d_m);\n",
        "    cudaFree(d_mask);\n",
        "    cudaFree(d_n);\n",
        "}\n",
        "\n",
        "int main() {\n",
        "     for(size_t maskWidth = 11; maskWidth <= 17; maskWidth+=2){\n",
        "      unsigned char* inp = (unsigned char*) malloc(MATRIX_SIZE * MATRIX_SIZE * sizeof(unsigned char));\n",
        "      unsigned char* mask = (unsigned char*) malloc(maskWidth * maskWidth * sizeof(unsigned char));\n",
        "      unsigned char* out = (unsigned char*) malloc(MATRIX_SIZE * MATRIX_SIZE * sizeof(unsigned char));\n",
        "\n",
        "      for(int i = 0; i < MATRIX_SIZE * MATRIX_SIZE; ++i) {\n",
        "          inp[i] = (unsigned char)(1 +(3 * i % 20));\n",
        "      }\n",
        "    \n",
        "      for(int j = 0; j < maskWidth * maskWidth; ++j) {\n",
        "          mask[j] = (unsigned char)(1 + (((2 * j)) % maskWidth));\n",
        "      }\n",
        "     \n",
        "      launch_kernel(inp, mask, out, maskWidth);\n",
        "    }\n",
        "    return 0;\n",
        "}"
      ],
      "metadata": {
        "colab": {
          "base_uri": "https://localhost:8080/"
        },
        "id": "qt_GkVXlp7lf",
        "outputId": "0f53544d-c8a3-488f-b5d4-da58344fc5ab"
      },
      "execution_count": null,
      "outputs": [
        {
          "output_type": "stream",
          "name": "stdout",
          "text": [
            "Mask size: 11\n",
            "Time elapsed on naive GPU convolution 2d untiled ( 32 ) block 18.751616 ms.\n",
            "\n",
            "______________________________________________________________________________\n",
            "Mask size: 13\n",
            "Time elapsed on naive GPU convolution 2d untiled ( 32 ) block 18.993153 ms.\n",
            "\n",
            "______________________________________________________________________________\n",
            "Mask size: 15\n",
            "Time elapsed on naive GPU convolution 2d untiled ( 32 ) block 19.427328 ms.\n",
            "\n",
            "______________________________________________________________________________\n",
            "Mask size: 17\n",
            "Time elapsed on naive GPU convolution 2d untiled ( 32 ) block 19.746496 ms.\n",
            "\n",
            "______________________________________________________________________________\n",
            "\n"
          ]
        }
      ]
    },
    {
      "cell_type": "markdown",
      "source": [
        "# Tiling"
      ],
      "metadata": {
        "id": "xyiBWF_Z3Kj7"
      }
    },
    {
      "cell_type": "code",
      "source": [
        "%%cu\n",
        "#include <cuda.h>\n",
        "#include <stdio.h>\n",
        "#include <time.h>\n",
        "#include <stdlib.h>\n",
        "\n",
        "#define BLOCK_WIDTH 32\n",
        "#define MATRIX_SIZE 1024\n",
        "\n",
        "\n",
        "__global__ void tiledConvolution_2D_Kernel(unsigned char* inp, const unsigned char* mask, unsigned char* out, size_t maskWidth, int N_TILE_WIDTH) {\n",
        "    unsigned char result = 0;\n",
        "   \n",
        "    int outputRow = blockIdx.y * N_TILE_WIDTH + threadIdx.y;\n",
        "    int outputCol = blockIdx.x * N_TILE_WIDTH + threadIdx.x;\n",
        "    \n",
        "    int inputRow = outputRow - maskWidth / 2;\n",
        "    int inputCol = outputCol - maskWidth / 2;\n",
        "    \n",
        "    __shared__ unsigned char tile[BLOCK_WIDTH][BLOCK_WIDTH];\n",
        "    \n",
        "    // thread boundary check for loading input tiles\n",
        "    if(inputRow >= 0 && inputRow < MATRIX_SIZE && inputCol >= 0 && inputCol < MATRIX_SIZE){\n",
        "        tile[threadIdx.y][threadIdx.x] = inp[inputRow * MATRIX_SIZE + inputCol];\n",
        "    }\n",
        "    else {\n",
        "        tile[threadIdx.y][threadIdx.x] = 0;\n",
        "    }\n",
        "    \n",
        "    __syncthreads();\n",
        "    \n",
        "    \n",
        "    if(threadIdx.y < N_TILE_WIDTH && threadIdx.x < N_TILE_WIDTH && outputRow < MATRIX_SIZE && outputCol < MATRIX_SIZE){ // do not evaluate for elements = 0 (ghost element)\n",
        "        for(int i = 0; i < maskWidth; ++i){\n",
        "            for(int j = 0; j < maskWidth; ++j){\n",
        "                result += mask[i * maskWidth + j] * tile[threadIdx.y + i][threadIdx.x + j];\n",
        "            }\n",
        "        }\n",
        "        \n",
        "        // write result \n",
        "        out[outputRow * MATRIX_SIZE + outputCol] = result;\n",
        "    }\n",
        "}\n",
        "\n",
        "\n",
        "void launch_kernel(unsigned char* m, unsigned char* mask, unsigned char* n, size_t maskWidth, int N_TILE_WIDTH) {\n",
        "    \n",
        "    float  naive_gpu_elapsed_time_ms;\n",
        "\n",
        "    cudaEvent_t start, stop;\n",
        "    cudaEventCreate(&start);\n",
        "    cudaEventCreate(&stop);\n",
        "\n",
        "    dim3 dimGrid(ceil(MATRIX_SIZE / N_TILE_WIDTH), ceil(MATRIX_SIZE / N_TILE_WIDTH), 1);\n",
        "    dim3 dimBlock(BLOCK_WIDTH, BLOCK_WIDTH, 1); //1024 thread in block\n",
        "\n",
        "    unsigned char* d_m;\n",
        "    unsigned char* d_mask;\n",
        "    unsigned char* d_n;\n",
        "\n",
        "    cudaMalloc((void**) &d_m, MATRIX_SIZE * MATRIX_SIZE * sizeof(unsigned char));\n",
        "    cudaMalloc((void**) &d_mask, maskWidth * maskWidth * sizeof(unsigned char));\n",
        "    cudaMalloc((void**) &d_n, MATRIX_SIZE * MATRIX_SIZE * sizeof(unsigned char));\n",
        "    cudaMemcpy(d_m, m, MATRIX_SIZE * MATRIX_SIZE * sizeof(unsigned char), cudaMemcpyHostToDevice);\n",
        "    cudaMemcpy(d_mask, mask, maskWidth * maskWidth * sizeof(unsigned char), cudaMemcpyHostToDevice);\n",
        "  \n",
        "    cudaEventRecord(start, 0);\n",
        "\n",
        "    tiledConvolution_2D_Kernel<<<dimGrid, dimBlock>>>(d_m, d_mask, d_n, maskWidth,  N_TILE_WIDTH);\n",
        "    \n",
        "    cudaThreadSynchronize();\n",
        "\n",
        "    //time counting terminate\n",
        "    cudaEventRecord(stop, 0);\n",
        "    cudaEventSynchronize(stop);\n",
        "    cudaEventElapsedTime(&naive_gpu_elapsed_time_ms, start, stop);\n",
        "    printf(\"Mask size: %d\\n\", maskWidth);\n",
        "    printf(\"Time elapsed on naive GPU convolution 2d untiled ( %d ) block %f ms.\\n\\n\", BLOCK_WIDTH, naive_gpu_elapsed_time_ms);\n",
        "    printf(\"______________________________________________________________________________\\n\");\n",
        "    cudaMemcpy(n, d_n, maskWidth * maskWidth * sizeof(unsigned char), cudaMemcpyDeviceToHost);\n",
        "\n",
        "\n",
        "    cudaFree(d_m);    \n",
        "    cudaFree(d_mask);\n",
        "    cudaFree(d_n);   \n",
        "}\n",
        "\n",
        "int main() {\n",
        "    \n",
        "    for(size_t maskWidth = 11; maskWidth <= 17; maskWidth+=2){\n",
        "      int N_TILE_WIDTH = BLOCK_WIDTH - (maskWidth - 1);\n",
        "      \n",
        "      unsigned char* inp = (unsigned char*) malloc(MATRIX_SIZE * MATRIX_SIZE * sizeof(unsigned char));\n",
        "      unsigned char* mask = (unsigned char*) malloc(maskWidth * maskWidth * sizeof(unsigned char));\n",
        "      unsigned char* out = (unsigned char*) malloc(MATRIX_SIZE * MATRIX_SIZE * sizeof(unsigned char));\n",
        "\n",
        "      for(int i = 0; i < MATRIX_SIZE * MATRIX_SIZE; ++i) {\n",
        "          inp[i] = (unsigned char)(1 +(3 * i % 20));\n",
        "      }\n",
        "    \n",
        "      for(int j = 0; j < maskWidth * maskWidth; ++j) {\n",
        "          mask[j] = (unsigned char)(1 + (((2 * j)) % maskWidth));\n",
        "      }\n",
        "      \n",
        "      launch_kernel(inp, mask, out, maskWidth, N_TILE_WIDTH);\n",
        "    }\n",
        "\n",
        "\n",
        "    return 0;\n",
        "}"
      ],
      "metadata": {
        "colab": {
          "base_uri": "https://localhost:8080/"
        },
        "id": "lyg-kU9MpNuW",
        "outputId": "63a5b823-4f27-4bf3-9470-3875aa8c4a31"
      },
      "execution_count": null,
      "outputs": [
        {
          "output_type": "stream",
          "name": "stdout",
          "text": [
            "Mask size: 11\n",
            "Time elapsed on naive GPU convolution 2d untiled ( 32 ) block 1.302528 ms.\n",
            "\n",
            "______________________________________________________________________________\n",
            "Mask size: 13\n",
            "Time elapsed on naive GPU convolution 2d untiled ( 32 ) block 1.873344 ms.\n",
            "\n",
            "______________________________________________________________________________\n",
            "Mask size: 15\n",
            "Time elapsed on naive GPU convolution 2d untiled ( 32 ) block 2.797536 ms.\n",
            "\n",
            "______________________________________________________________________________\n",
            "Mask size: 17\n",
            "Time elapsed on naive GPU convolution 2d untiled ( 32 ) block 3.932416 ms.\n",
            "\n",
            "______________________________________________________________________________\n",
            "\n"
          ]
        }
      ]
    },
    {
      "cell_type": "markdown",
      "source": [
        "# An idea for further improvement\n",
        "Using cached mask (store it in the constant memory) should reduce the access of the threads when doing convolution."
      ],
      "metadata": {
        "id": "1LVQ0UA9zwwk"
      }
    },
    {
      "cell_type": "code",
      "source": [
        "%%cu\n",
        "#include <cuda.h>\n",
        "#include <stdio.h>\n",
        "#include <time.h>\n",
        "#include <stdlib.h>\n",
        "\n",
        "#define BLOCK_WIDTH 32\n",
        "#define MATRIX_SIZE 1024\n",
        "#define MASK_SIZE 11\n",
        "\n",
        "__constant__ unsigned char CACHED_MASK[MASK_SIZE][MASK_SIZE];\n",
        "\n",
        "\n",
        "__global__ void tiledConvolution_2D_Kernel(unsigned char* inp, unsigned char* out, int N_TILE_WIDTH) {\n",
        "    float result = 0;\n",
        "   \n",
        "    int outputRow = blockIdx.y * N_TILE_WIDTH + threadIdx.y;\n",
        "    int outputCol = blockIdx.x * N_TILE_WIDTH + threadIdx.x;\n",
        "    \n",
        "    int inputRow = outputRow - MASK_SIZE / 2;\n",
        "    int inputCol = outputCol - MASK_SIZE / 2;\n",
        "    \n",
        "    __shared__ unsigned char tile[BLOCK_WIDTH][BLOCK_WIDTH];\n",
        "    \n",
        "    // thread boundary check for loading input tiles\n",
        "    if(inputRow >= 0 && inputRow < MATRIX_SIZE && inputCol >= 0 && inputCol < MATRIX_SIZE){\n",
        "        tile[threadIdx.y][threadIdx.x] = inp[inputRow * MATRIX_SIZE + inputCol];\n",
        "    }\n",
        "    else {\n",
        "        tile[threadIdx.y][threadIdx.x] = 0;\n",
        "    }\n",
        "    \n",
        "    __syncthreads();\n",
        "    \n",
        "    // thread boundary check for calculation\n",
        "    if(threadIdx.y < N_TILE_WIDTH && threadIdx.x < N_TILE_WIDTH && outputRow < MATRIX_SIZE && outputCol < MATRIX_SIZE){ // do not evaluate for elements = 0 (ghost element)\n",
        "        for(int i = 0; i < MASK_SIZE; ++i){\n",
        "            for(int j = 0; j < MASK_SIZE; ++j){\n",
        "                result += CACHED_MASK[i][j] * tile[threadIdx.y + i][threadIdx.x + j];\n",
        "            }\n",
        "        }\n",
        "        \n",
        "        // write result \n",
        "        out[outputRow * MATRIX_SIZE + outputCol] = result;\n",
        "    }\n",
        "}\n",
        "\n",
        "\n",
        "void launch_kernel(unsigned char* m, unsigned char* n, int N_TILE_WIDTH) {\n",
        "    \n",
        "     float  naive_gpu_elapsed_time_ms;\n",
        "\n",
        "    cudaEvent_t start, stop;\n",
        "    cudaEventCreate(&start);\n",
        "    cudaEventCreate(&stop);\n",
        "\n",
        "    dim3 dimGrid(ceil(MATRIX_SIZE / (float) N_TILE_WIDTH), ceil(MATRIX_SIZE / (float) N_TILE_WIDTH), 1);\n",
        "    dim3 dimBlock(BLOCK_WIDTH, BLOCK_WIDTH, 1);\n",
        "\n",
        "    unsigned char* d_m;\n",
        "    unsigned char* d_n;\n",
        "\n",
        "    cudaMalloc((void**) &d_m, MATRIX_SIZE * MATRIX_SIZE * sizeof(unsigned char));\n",
        "    cudaMalloc((void**) &d_n, MATRIX_SIZE * MATRIX_SIZE * sizeof(unsigned char));\n",
        "    cudaMemcpy(d_m, m, MATRIX_SIZE * MATRIX_SIZE * sizeof(unsigned char), cudaMemcpyHostToDevice);\n",
        "  \n",
        "    cudaEventRecord(start, 0);\n",
        "\n",
        "    tiledConvolution_2D_Kernel<<<dimGrid, dimBlock>>>(d_m, d_n, N_TILE_WIDTH);\n",
        "    \n",
        "    cudaDeviceSynchronize();\n",
        "\n",
        "    //time counting terminate\n",
        "    cudaEventRecord(stop, 0);\n",
        "    cudaEventSynchronize(stop);\n",
        "    cudaEventElapsedTime(&naive_gpu_elapsed_time_ms, start, stop);\n",
        "    printf(\"Mask size: %d\\n\", MASK_SIZE);\n",
        "    printf(\"Time elapsed on naive GPU convolution 2d untiled ( %d ) block %f ms.\\n\\n\", BLOCK_WIDTH, naive_gpu_elapsed_time_ms);\n",
        "    printf(\"______________________________________________________________________________\\n\");\n",
        "\n",
        "\n",
        "    cudaFree(d_m);    \n",
        "    cudaFree(d_n);   \n",
        "}\n",
        "\n",
        "int main() {\n",
        "    int N_TILE_WIDTH = BLOCK_WIDTH - (MASK_SIZE - 1);\n",
        "    unsigned char* inp = (unsigned char*) malloc(MATRIX_SIZE * MATRIX_SIZE * sizeof(unsigned char));\n",
        "    unsigned char* mask = (unsigned char*) malloc(MASK_SIZE * MASK_SIZE * sizeof(unsigned char)); //init mask only on host (cpu)\n",
        "    unsigned char* out = (unsigned char*) malloc(MATRIX_SIZE * MATRIX_SIZE * sizeof(unsigned char));\n",
        "\n",
        "    for(int i = 0; i < MATRIX_SIZE * MATRIX_SIZE; ++i) {\n",
        "        inp[i] = (unsigned char)(1 +(3 * i % 20));\n",
        "    }\n",
        "  \n",
        "    for(int j = 0; j < MASK_SIZE * MASK_SIZE; ++j) {\n",
        "        mask[j] = (unsigned char)(1 + (((2 * j)) % MASK_SIZE));\n",
        "    }\n",
        "    \n",
        "    //copy mask into gpu\n",
        "    cudaMemcpyToSymbol(CACHED_MASK, mask, MASK_SIZE * MASK_SIZE * sizeof(unsigned char));\n",
        "\n",
        "    launch_kernel(inp, out, N_TILE_WIDTH);\n",
        "    \n",
        "\n",
        "\n",
        "    return 0;\n",
        "}"
      ],
      "metadata": {
        "colab": {
          "base_uri": "https://localhost:8080/"
        },
        "id": "ylvWOw4Gzcg0",
        "outputId": "ef9c4ed1-35fd-4c5f-ebc3-235ae2a29ece"
      },
      "execution_count": null,
      "outputs": [
        {
          "output_type": "stream",
          "name": "stdout",
          "text": [
            "Mask size: 11\n",
            "Time elapsed on naive GPU convolution 2d untiled ( 32 ) block 0.691264 ms.\n",
            "\n",
            "______________________________________________________________________________\n",
            "\n"
          ]
        }
      ]
    },
    {
      "cell_type": "markdown",
      "source": [
        "# Mask width of 17"
      ],
      "metadata": {
        "id": "lFvRQ_zK2d4r"
      }
    },
    {
      "cell_type": "code",
      "source": [
        "%%cu\n",
        "#include <cuda.h>\n",
        "#include <stdio.h>\n",
        "#include <time.h>\n",
        "#include <stdlib.h>\n",
        "\n",
        "#define BLOCK_WIDTH 32\n",
        "#define MATRIX_SIZE 1024\n",
        "#define MASK_SIZE 17\n",
        "\n",
        "__constant__ unsigned char CACHED_MASK[MASK_SIZE][MASK_SIZE];\n",
        "\n",
        "\n",
        "__global__ void tiledConvolution_2D_Kernel(unsigned char* inp, unsigned char* out, int N_TILE_WIDTH) {\n",
        "    float result = 0;\n",
        "   \n",
        "    int outputRow = blockIdx.y * N_TILE_WIDTH + threadIdx.y;\n",
        "    int outputCol = blockIdx.x * N_TILE_WIDTH + threadIdx.x;\n",
        "    \n",
        "    int inputRow = outputRow - MASK_SIZE / 2;\n",
        "    int inputCol = outputCol - MASK_SIZE / 2;\n",
        "    \n",
        "    __shared__ unsigned char tile[BLOCK_WIDTH][BLOCK_WIDTH];\n",
        "    \n",
        "    // thread boundary check for loading input tiles\n",
        "    if(inputRow >= 0 && inputRow < MATRIX_SIZE && inputCol >= 0 && inputCol < MATRIX_SIZE){\n",
        "        tile[threadIdx.y][threadIdx.x] = inp[inputRow * MATRIX_SIZE + inputCol];\n",
        "    }\n",
        "    else {\n",
        "        tile[threadIdx.y][threadIdx.x] = 0;\n",
        "    }\n",
        "    \n",
        "    __syncthreads();\n",
        "    \n",
        "    // thread boundary check for calculation\n",
        "    if(threadIdx.y < N_TILE_WIDTH && threadIdx.x < N_TILE_WIDTH && outputRow < MATRIX_SIZE && outputCol < MATRIX_SIZE){ // do not evaluate for elements = 0 (ghost element)\n",
        "        for(int i = 0; i < MASK_SIZE; ++i){\n",
        "            for(int j = 0; j < MASK_SIZE; ++j){\n",
        "                result += CACHED_MASK[i][j] * tile[threadIdx.y + i][threadIdx.x + j];\n",
        "            }\n",
        "        }\n",
        "        \n",
        "        // write result \n",
        "        out[outputRow * MATRIX_SIZE + outputCol] = result;\n",
        "    }\n",
        "}\n",
        "\n",
        "\n",
        "void launch_kernel(unsigned char* m, unsigned char* n, int N_TILE_WIDTH) {\n",
        "    \n",
        "     float  naive_gpu_elapsed_time_ms;\n",
        "\n",
        "    cudaEvent_t start, stop;\n",
        "    cudaEventCreate(&start);\n",
        "    cudaEventCreate(&stop);\n",
        "\n",
        "    dim3 dimGrid(ceil(MATRIX_SIZE / (float) N_TILE_WIDTH), ceil(MATRIX_SIZE / (float) N_TILE_WIDTH), 1);\n",
        "    dim3 dimBlock(BLOCK_WIDTH, BLOCK_WIDTH, 1);\n",
        "\n",
        "    unsigned char* d_m;\n",
        "    unsigned char* d_n;\n",
        "\n",
        "    cudaMalloc((void**) &d_m, MATRIX_SIZE * MATRIX_SIZE * sizeof(unsigned char));\n",
        "    cudaMalloc((void**) &d_n, MATRIX_SIZE * MATRIX_SIZE * sizeof(unsigned char));\n",
        "    cudaMemcpy(d_m, m, MATRIX_SIZE * MATRIX_SIZE * sizeof(unsigned char), cudaMemcpyHostToDevice);\n",
        "  \n",
        "    cudaEventRecord(start, 0);\n",
        "\n",
        "    tiledConvolution_2D_Kernel<<<dimGrid, dimBlock>>>(d_m, d_n, N_TILE_WIDTH);\n",
        "    \n",
        "    cudaDeviceSynchronize();\n",
        "\n",
        "    //time counting terminate\n",
        "    cudaEventRecord(stop, 0);\n",
        "    cudaEventSynchronize(stop);\n",
        "    cudaEventElapsedTime(&naive_gpu_elapsed_time_ms, start, stop);\n",
        "    printf(\"Mask size: %d\\n\", MASK_SIZE);\n",
        "    printf(\"Time elapsed on naive GPU convolution 2d untiled ( %d ) block %f ms.\\n\\n\", BLOCK_WIDTH, naive_gpu_elapsed_time_ms);\n",
        "    printf(\"______________________________________________________________________________\\n\");\n",
        "\n",
        "\n",
        "    cudaFree(d_m);    \n",
        "    cudaFree(d_n);   \n",
        "}\n",
        "\n",
        "int main() {\n",
        "    int N_TILE_WIDTH = BLOCK_WIDTH - (MASK_SIZE - 1);\n",
        "    unsigned char* inp = (unsigned char*) malloc(MATRIX_SIZE * MATRIX_SIZE * sizeof(unsigned char));\n",
        "    unsigned char* mask = (unsigned char*) malloc(MASK_SIZE * MASK_SIZE * sizeof(unsigned char)); //init mask only on host (cpu)\n",
        "    unsigned char* out = (unsigned char*) malloc(MATRIX_SIZE * MATRIX_SIZE * sizeof(unsigned char));\n",
        "\n",
        "    for(int i = 0; i < MATRIX_SIZE * MATRIX_SIZE; ++i) {\n",
        "        inp[i] = (unsigned char)(1 +(3 * i % 20));\n",
        "    }\n",
        "  \n",
        "    for(int j = 0; j < MASK_SIZE * MASK_SIZE; ++j) {\n",
        "        mask[j] = (unsigned char)(1 + (((2 * j)) % MASK_SIZE));\n",
        "    }\n",
        "    \n",
        "    //copy mask into gpu\n",
        "    cudaMemcpyToSymbol(CACHED_MASK, mask, MASK_SIZE * MASK_SIZE * sizeof(unsigned char));\n",
        "\n",
        "    launch_kernel(inp, out, N_TILE_WIDTH);\n",
        "    \n",
        "\n",
        "\n",
        "    return 0;\n",
        "}"
      ],
      "metadata": {
        "colab": {
          "base_uri": "https://localhost:8080/"
        },
        "id": "Ttxoa9052hfp",
        "outputId": "a068c8a7-3e24-422b-ba65-f4056c6e0281"
      },
      "execution_count": null,
      "outputs": [
        {
          "output_type": "stream",
          "name": "stdout",
          "text": [
            "Mask size: 17\n",
            "Time elapsed on naive GPU convolution 2d untiled ( 32 ) block 1.893184 ms.\n",
            "\n",
            "______________________________________________________________________________\n",
            "\n"
          ]
        }
      ]
    },
    {
      "cell_type": "markdown",
      "source": [
        "# Conclusion"
      ],
      "metadata": {
        "id": "ccPz7kcD3taA"
      }
    },
    {
      "cell_type": "markdown",
      "source": [
        "In the non tiled version, every thread in the block will do MASK_WIDTH^2 access. So for each block MASK_WIDTH^2 * TILE_WIDTH ^2.\n",
        "Wich for a 11x11 mask is 11 * 11 * 22 * 22 = 58564.\n",
        "In the tiled version, a block load one input tile, so BLOCK_WIDTH ^ 2. That, for our GPU is 32 * 32 = 1024.\n",
        "The access ratio 58564/1024 = 57!\n",
        "\n",
        "A better approach, to reduce memory access, is to cache the mask in the constant memory, since it will not change and be accesses to each block equally.\n",
        "Storing the mask, (i.e. for simplicity of math the 11x11), avoid that for each block the mask is loaded: 11 * 11 * 32 *32 = 123904 avoided mask loads.\n"
      ],
      "metadata": {
        "id": "kqEKBm4b34mI"
      }
    },
    {
      "cell_type": "markdown",
      "source": [
        "![immagine.png](data:image/png;base64,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)"
      ],
      "metadata": {
        "id": "wLDfx413Mgk5"
      }
    }
  ]
}